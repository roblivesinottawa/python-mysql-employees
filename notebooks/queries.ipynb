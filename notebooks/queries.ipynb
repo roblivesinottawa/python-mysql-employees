{
 "cells": [
  {
   "cell_type": "code",
   "execution_count": 1,
   "metadata": {},
   "outputs": [],
   "source": [
    "import mysql.connector\n",
    "import config\n",
    "\n",
    "connection = mysql.connector.connect(**config.connection())"
   ]
  },
  {
   "cell_type": "code",
   "execution_count": 2,
   "metadata": {},
   "outputs": [],
   "source": [
    "def get_data(query):\n",
    "    '''This function returns the data from the database'''\n",
    "    cursor = connection.cursor()\n",
    "    cursor.execute(query)\n",
    "    data = cursor.fetchall()\n",
    "    return data"
   ]
  },
  {
   "cell_type": "code",
   "execution_count": 3,
   "metadata": {},
   "outputs": [
    {
     "name": "stdout",
     "output_type": "stream",
     "text": [
      "[('employees',), ('information_schema',), ('mysql',), ('performance_schema',), ('quizdata',), ('sys',)]\n"
     ]
    }
   ],
   "source": [
    "print(get_data(\n",
    "    '''SHOW DATABASES;'''\n",
    "))"
   ]
  },
  {
   "cell_type": "code",
   "execution_count": 33,
   "metadata": {},
   "outputs": [
    {
     "data": {
      "text/plain": [
       "[(100,\n",
       "  datetime.date(1977, 1, 1),\n",
       "  'John',\n",
       "  'Doe',\n",
       "  'M',\n",
       "  datetime.date(2000, 1, 1)),\n",
       " (10001,\n",
       "  datetime.date(1953, 9, 2),\n",
       "  'Georgi',\n",
       "  'Facello',\n",
       "  'M',\n",
       "  datetime.date(1986, 6, 26)),\n",
       " (10002,\n",
       "  datetime.date(1964, 6, 2),\n",
       "  'Bezalel',\n",
       "  'Simmel',\n",
       "  'F',\n",
       "  datetime.date(1985, 11, 21)),\n",
       " (10003,\n",
       "  datetime.date(1959, 12, 3),\n",
       "  'Parto',\n",
       "  'Bamford',\n",
       "  'M',\n",
       "  datetime.date(1986, 8, 28)),\n",
       " (10004,\n",
       "  datetime.date(1954, 5, 1),\n",
       "  'Chirstian',\n",
       "  'Koblick',\n",
       "  'M',\n",
       "  datetime.date(1986, 12, 1)),\n",
       " (10005,\n",
       "  datetime.date(1955, 1, 21),\n",
       "  'Kyoichi',\n",
       "  'Maliniak',\n",
       "  'M',\n",
       "  datetime.date(1989, 9, 12)),\n",
       " (10006,\n",
       "  datetime.date(1953, 4, 20),\n",
       "  'Anneke',\n",
       "  'Preusig',\n",
       "  'F',\n",
       "  datetime.date(1989, 6, 2)),\n",
       " (10007,\n",
       "  datetime.date(1957, 5, 23),\n",
       "  'Tzvetan',\n",
       "  'Zielinski',\n",
       "  'F',\n",
       "  datetime.date(1989, 2, 10)),\n",
       " (10008,\n",
       "  datetime.date(1958, 2, 19),\n",
       "  'Saniya',\n",
       "  'Kalloufi',\n",
       "  'M',\n",
       "  datetime.date(1994, 9, 15)),\n",
       " (10009,\n",
       "  datetime.date(1952, 4, 19),\n",
       "  'Sumant',\n",
       "  'Peac',\n",
       "  'F',\n",
       "  datetime.date(1985, 2, 18))]"
      ]
     },
     "execution_count": 33,
     "metadata": {},
     "output_type": "execute_result"
    }
   ],
   "source": [
    "get_data('''SELECT * FROM employees LIMIT 10;''')"
   ]
  },
  {
   "cell_type": "markdown",
   "metadata": {},
   "source": [
    "ASSIGN EMPLOYEE NUMBER 110022 AS A MANAGER TO ALL EMPLOYEES FROM 10001 TO 10020 AND EMPLOYEE 110039 AS A \n",
    "MANAGER TO ALL EMPLOYEES FROM 10021 TO 10040"
   ]
  },
  {
   "cell_type": "code",
   "execution_count": 34,
   "metadata": {},
   "outputs": [
    {
     "data": {
      "text/plain": [
       "[(10001, 'd005', 110022),\n",
       " (10002, 'd007', 110022),\n",
       " (10003, 'd004', 110022),\n",
       " (10004, 'd004', 110022),\n",
       " (10005, 'd003', 110022),\n",
       " (10006, 'd005', 110022),\n",
       " (10007, 'd008', 110022),\n",
       " (10008, 'd005', 110022),\n",
       " (10009, 'd006', 110022),\n",
       " (10010, 'd004', 110022),\n",
       " (10011, 'd009', 110022),\n",
       " (10012, 'd005', 110022),\n",
       " (10013, 'd003', 110022),\n",
       " (10014, 'd005', 110022),\n",
       " (10015, 'd008', 110022),\n",
       " (10016, 'd007', 110022),\n",
       " (10017, 'd001', 110022),\n",
       " (10018, 'd004', 110022),\n",
       " (10019, 'd008', 110022),\n",
       " (10020, 'd004', 110022),\n",
       " (10021, 'd005', 110039),\n",
       " (10022, 'd005', 110039),\n",
       " (10023, 'd005', 110039),\n",
       " (10024, 'd004', 110039),\n",
       " (10025, 'd005', 110039),\n",
       " (10026, 'd004', 110039),\n",
       " (10027, 'd005', 110039),\n",
       " (10028, 'd005', 110039),\n",
       " (10029, 'd004', 110039),\n",
       " (10030, 'd004', 110039),\n",
       " (10031, 'd005', 110039),\n",
       " (10032, 'd004', 110039),\n",
       " (10033, 'd006', 110039),\n",
       " (10034, 'd007', 110039),\n",
       " (10035, 'd004', 110039),\n",
       " (10036, 'd003', 110039),\n",
       " (10037, 'd005', 110039),\n",
       " (10038, 'd009', 110039),\n",
       " (10039, 'd003', 110039),\n",
       " (10040, 'd005', 110039)]"
      ]
     },
     "execution_count": 34,
     "metadata": {},
     "output_type": "execute_result"
    }
   ],
   "source": [
    "get_data(\n",
    "    '''\n",
    "    SELECT \n",
    "        A.*\n",
    "    FROM\n",
    "        (SELECT \n",
    "            e.emp_no AS employee_ID,\n",
    "                MIN(de.dept_no) AS department_code,\n",
    "                (SELECT\n",
    "                    emp_no\n",
    "                FROM\n",
    "                    dept_manager\n",
    "                WHERE\n",
    "                    emp_no = 110022) AS manager_ID\n",
    "        FROM\n",
    "            employees e\n",
    "        JOIN dept_emp de ON e.emp_no = de.emp_no\n",
    "        WHERE\n",
    "            e.emp_no <= 10020\n",
    "        GROUP BY e.emp_no\n",
    "        ORDER BY e.emp_no) AS A\n",
    "    UNION  \n",
    "    SELECT \n",
    "        B.*\n",
    "    FROM\n",
    "        (SELECT \n",
    "            e.emp_no AS employee_ID,\n",
    "                MIN(de.dept_no) AS department_code,\n",
    "                (SELECT\n",
    "                    emp_no\n",
    "                FROM\n",
    "                    dept_manager\n",
    "                WHERE\n",
    "                    emp_no = 110039) AS manager_ID\n",
    "    FROM\n",
    "        employees e\n",
    "    JOIN dept_emp de ON e.emp_no = de.emp_no\n",
    "    WHERE\n",
    "        e.emp_no > 10020\n",
    "    GROUP BY e.emp_no\n",
    "    ORDER BY e.emp_no\n",
    "    LIMIT 20) AS B;\n",
    "    '''\n",
    ")"
   ]
  },
  {
   "cell_type": "markdown",
   "metadata": {},
   "source": [
    "CREATE A TABLE CALLED EMP_MANAGER"
   ]
  },
  {
   "cell_type": "code",
   "execution_count": 35,
   "metadata": {},
   "outputs": [
    {
     "data": {
      "text/plain": [
       "[]"
      ]
     },
     "execution_count": 35,
     "metadata": {},
     "output_type": "execute_result"
    }
   ],
   "source": [
    "get_data(\n",
    "    '''\n",
    "    DROP TABLE IF EXISTS emp_manager;\n",
    "    '''\n",
    ")"
   ]
  },
  {
   "cell_type": "code",
   "execution_count": 36,
   "metadata": {},
   "outputs": [
    {
     "data": {
      "text/plain": [
       "[]"
      ]
     },
     "execution_count": 36,
     "metadata": {},
     "output_type": "execute_result"
    }
   ],
   "source": [
    "get_data(\n",
    "    ''' CREATE TABLE IF NOT EXISTS emp_manager (\n",
    "        emp_no INT NOT NULL,\n",
    "        dept_no CHAR(4) NULL,\n",
    "        manager_no INT NOT NULL\n",
    "    );'''\n",
    ")"
   ]
  },
  {
   "cell_type": "code",
   "execution_count": 37,
   "metadata": {},
   "outputs": [
    {
     "data": {
      "text/plain": [
       "[]"
      ]
     },
     "execution_count": 37,
     "metadata": {},
     "output_type": "execute_result"
    }
   ],
   "source": [
    "get_data(\n",
    "    '''\n",
    "INSERT INTO emp_manager\n",
    "SELECT \n",
    "    u.*\n",
    "FROM\n",
    "    (SELECT \n",
    "        a.*\n",
    "    FROM\n",
    "        (SELECT \n",
    "        e.emp_no AS employee_ID,\n",
    "            MIN(de.dept_no) AS department_code,\n",
    "            (SELECT \n",
    "                    emp_no\n",
    "                FROM\n",
    "                    dept_manager\n",
    "                WHERE\n",
    "                    emp_no = 110022) AS manager_ID\n",
    "    FROM\n",
    "        employees e\n",
    "    JOIN dept_emp de ON e.emp_no = de.emp_no\n",
    "    WHERE\n",
    "        e.emp_no <= 10020\n",
    "    GROUP BY e.emp_no\n",
    "    ORDER BY e.emp_no) AS a UNION SELECT \n",
    "        b.*\n",
    "    FROM\n",
    "        (SELECT \n",
    "        e.emp_no AS employee_ID,\n",
    "            MIN(de.dept_no) AS department_code,\n",
    "            (SELECT \n",
    "                    emp_no\n",
    "                FROM\n",
    "                    dept_manager\n",
    "                WHERE\n",
    "                    emp_no = 110039) AS manager_ID\n",
    "    FROM\n",
    "        employees e\n",
    "    JOIN dept_emp de ON e.emp_no = de.emp_no\n",
    "    WHERE\n",
    "        e.emp_no > 10020\n",
    "    GROUP BY e.emp_no\n",
    "    ORDER BY e.emp_no\n",
    "    LIMIT 20) AS b UNION SELECT \n",
    "        c.*\n",
    "    FROM\n",
    "        (SELECT \n",
    "        e.emp_no AS employee_ID,\n",
    "            MIN(de.dept_no) AS department_code,\n",
    "            (SELECT \n",
    "                    emp_no\n",
    "                FROM\n",
    "                    dept_manager\n",
    "                WHERE\n",
    "                    emp_no = 110039) AS manager_ID\n",
    "    FROM\n",
    "        employees e\n",
    "    JOIN dept_emp de ON e.emp_no = de.emp_no\n",
    "    WHERE\n",
    "        e.emp_no = 110022\n",
    "    GROUP BY e.emp_no) AS c UNION SELECT \n",
    "        d.*\n",
    "    FROM\n",
    "        (SELECT \n",
    "        e.emp_no AS employee_ID,\n",
    "            MIN(de.dept_no) AS department_code,\n",
    "            (SELECT \n",
    "                    emp_no\n",
    "                FROM\n",
    "                    dept_manager\n",
    "                WHERE\n",
    "                    emp_no = 110022) AS manager_ID\n",
    "    FROM\n",
    "        employees e\n",
    "    JOIN dept_emp de ON e.emp_no = de.emp_no\n",
    "    WHERE\n",
    "        e.emp_no = 110039\n",
    "    GROUP BY e.emp_no) AS d) as u;\n",
    "    '''\n",
    ")"
   ]
  },
  {
   "cell_type": "markdown",
   "metadata": {},
   "source": [
    "FROM THE EMP_MANAGER TABLE, EXTRACT THE RECORD DATA ONLY OF THOSE EMPLOYEES WHO ARE MANAGERS AS WELL."
   ]
  },
  {
   "cell_type": "code",
   "execution_count": 38,
   "metadata": {},
   "outputs": [],
   "source": [
    "man_employees = get_data(\n",
    "    '''\n",
    "    SELECT e1.*\n",
    "    FROM\n",
    "        emp_manager e1\n",
    "    JOIN\n",
    "        emp_manager e2 ON e1.emp_no = e2.manager_no\n",
    "    WHERE\n",
    "        e2.emp_no IN (\n",
    "            SELECT manager_no FROM emp_manager\n",
    "        );\n",
    "    '''\n",
    ")"
   ]
  },
  {
   "cell_type": "code",
   "execution_count": 39,
   "metadata": {},
   "outputs": [
    {
     "name": "stdout",
     "output_type": "stream",
     "text": [
      "[(110039, 'd001', 110022), (110022, 'd001', 110039)]\n"
     ]
    }
   ],
   "source": [
    "print(man_employees)"
   ]
  },
  {
   "cell_type": "code",
   "execution_count": 40,
   "metadata": {},
   "outputs": [
    {
     "data": {
      "text/plain": [
       "2"
      ]
     },
     "execution_count": 40,
     "metadata": {},
     "output_type": "execute_result"
    }
   ],
   "source": [
    "len(man_employees)"
   ]
  },
  {
   "cell_type": "markdown",
   "metadata": {},
   "source": [
    "\"VIEWS\" ARE USED TO CREATE A TABLE FROM ANOTHER TABLE."
   ]
  },
  {
   "cell_type": "markdown",
   "metadata": {},
   "source": [
    "VIEWS IN SQL: \n",
    "[]: # Language: sql\n",
    "[]: # Path: notebooks/queries.ipynb"
   ]
  },
  {
   "cell_type": "markdown",
   "metadata": {},
   "source": [
    "VISUALIZE ONLY THE PERIOD ENCOMPASSING THE LAST CONTRACT OF EACH EMPLOYEE"
   ]
  },
  {
   "cell_type": "code",
   "execution_count": 41,
   "metadata": {},
   "outputs": [],
   "source": [
    "last_contract = get_data(\n",
    "    '''\n",
    "    SELECT \n",
    "        emp_no, from_date, to_date,\n",
    "        COUNT(emp_no) AS Num\n",
    "    FROM\n",
    "        dept_emp\n",
    "    GROUP BY \n",
    "        emp_no\n",
    "    HAVING Num > 1 LIMIT 20;\n",
    "    '''\n",
    ")"
   ]
  },
  {
   "cell_type": "code",
   "execution_count": 42,
   "metadata": {},
   "outputs": [
    {
     "name": "stdout",
     "output_type": "stream",
     "text": [
      "[(10010, datetime.date(1996, 11, 24), datetime.date(2000, 6, 26), 2), (10018, datetime.date(1992, 7, 29), datetime.date(9999, 1, 1), 2), (10029, datetime.date(1991, 9, 18), datetime.date(1999, 7, 8), 2), (10040, datetime.date(1993, 2, 14), datetime.date(2002, 1, 22), 2), (10050, datetime.date(1990, 12, 25), datetime.date(1992, 11, 5), 2), (10060, datetime.date(1989, 5, 28), datetime.date(1992, 11, 11), 2), (10070, datetime.date(1985, 10, 14), datetime.date(1995, 10, 18), 2), (10080, datetime.date(1994, 9, 28), datetime.date(1997, 7, 9), 2), (10088, datetime.date(1988, 9, 2), datetime.date(1992, 3, 21), 2), (10098, datetime.date(1985, 5, 13), datetime.date(1989, 6, 29), 2), (10108, datetime.date(1999, 12, 6), datetime.date(2001, 10, 20), 2), (10116, datetime.date(1994, 2, 27), datetime.date(1995, 12, 3), 2), (10124, datetime.date(1991, 9, 5), datetime.date(1999, 6, 6), 2), (10134, datetime.date(1993, 12, 2), datetime.date(9999, 1, 1), 2), (10144, datetime.date(1985, 10, 14), datetime.date(1988, 9, 2), 2), (10155, datetime.date(1990, 7, 12), datetime.date(9999, 1, 1), 2), (10164, datetime.date(1990, 10, 19), datetime.date(2000, 5, 31), 2), (10172, datetime.date(1998, 2, 4), datetime.date(1998, 10, 1), 2), (10182, datetime.date(1990, 9, 2), datetime.date(1999, 1, 5), 2), (10192, datetime.date(1999, 8, 9), datetime.date(9999, 1, 1), 2)]\n"
     ]
    }
   ],
   "source": [
    "print(last_contract)"
   ]
  },
  {
   "cell_type": "code",
   "execution_count": 43,
   "metadata": {},
   "outputs": [
    {
     "data": {
      "text/plain": [
       "[]"
      ]
     },
     "execution_count": 43,
     "metadata": {},
     "output_type": "execute_result"
    }
   ],
   "source": [
    "get_data(\n",
    "    '''\n",
    "    CREATE OR REPLACE VIEW v_dept_emp_latest_date AS\n",
    "        SELECT\n",
    "            emp_no, MAX(from_date) AS from_date, MAX(to_date) AS to_date\n",
    "        FROM\n",
    "            dept_emp\n",
    "        GROUP BY emp_no;'''\n",
    ")"
   ]
  },
  {
   "cell_type": "code",
   "execution_count": 44,
   "metadata": {},
   "outputs": [
    {
     "name": "stdout",
     "output_type": "stream",
     "text": [
      "[(10001, datetime.date(1986, 6, 26), datetime.date(9999, 1, 1)), (10002, datetime.date(1996, 8, 3), datetime.date(9999, 1, 1)), (10003, datetime.date(1995, 12, 3), datetime.date(9999, 1, 1)), (10004, datetime.date(1986, 12, 1), datetime.date(9999, 1, 1)), (10005, datetime.date(1989, 9, 12), datetime.date(9999, 1, 1)), (10006, datetime.date(1990, 8, 5), datetime.date(9999, 1, 1)), (10007, datetime.date(1989, 2, 10), datetime.date(9999, 1, 1)), (10008, datetime.date(1998, 3, 11), datetime.date(2000, 7, 31)), (10009, datetime.date(1985, 2, 18), datetime.date(9999, 1, 1)), (10010, datetime.date(2000, 6, 26), datetime.date(9999, 1, 1))]\n"
     ]
    }
   ],
   "source": [
    "v_dept_emp_latest_date = get_data(\"SELECT * FROM employees.v_dept_emp_latest_date LIMIT 10;\")\n",
    "print(v_dept_emp_latest_date)\n"
   ]
  },
  {
   "cell_type": "markdown",
   "metadata": {},
   "source": [
    "THIS VIEW WILL EXTRACT THE AVERAGE SALARY OF ALL MANAGERS REGISTERED IN THE DATABASE.\n",
    "\n",
    "[]: # Language: sql\n",
    "[]: # Path: notebooks/queries.ipynb"
   ]
  },
  {
   "cell_type": "code",
   "execution_count": 45,
   "metadata": {},
   "outputs": [
    {
     "data": {
      "text/plain": [
       "[]"
      ]
     },
     "execution_count": 45,
     "metadata": {},
     "output_type": "execute_result"
    }
   ],
   "source": [
    "get_data(\n",
    "    '''\n",
    "    CREATE OR REPLACE VIEW v_managers_average_salary AS\n",
    "        SELECT \n",
    "            ROUND(AVG(salary), 2) AS average_salary\n",
    "        FROM \n",
    "            salaries s\n",
    "        JOIN\n",
    "            dept_manager m ON s.emp_no = m.emp_no;\n",
    "    '''\n",
    ")"
   ]
  },
  {
   "cell_type": "code",
   "execution_count": 46,
   "metadata": {},
   "outputs": [
    {
     "name": "stdout",
     "output_type": "stream",
     "text": [
      "[(Decimal('66924.27'),)]\n"
     ]
    }
   ],
   "source": [
    "v_managers_average_salary = get_data(\"SELECT * FROM employees.v_managers_average_salary;\")\n",
    "print(v_managers_average_salary)"
   ]
  },
  {
   "cell_type": "markdown",
   "metadata": {},
   "source": [
    "\"STORED ROUTINES\" ARE USED TO CREATE A FUNCTION THAT CAN BE USED IN OTHER QUERIES."
   ]
  },
  {
   "cell_type": "markdown",
   "metadata": {},
   "source": [
    "return the first 1000 rows from the table 'employees'"
   ]
  },
  {
   "cell_type": "code",
   "execution_count": 48,
   "metadata": {},
   "outputs": [],
   "source": [
    "# get_data(\"DROP PROCEDURE IF EXISTS select_employees;\")"
   ]
  },
  {
   "cell_type": "code",
   "execution_count": null,
   "metadata": {},
   "outputs": [],
   "source": [
    "# get_data('''\n",
    "#     CREATE PROCEDURE select_employees)\n",
    "#     BEGIN\n",
    "#         SELECT * FROM employees LIMIT 1000;\n",
    "#     END;\n",
    "# ''')"
   ]
  },
  {
   "cell_type": "markdown",
   "metadata": {},
   "source": [
    "procedure that will provide the average salary of all employees"
   ]
  },
  {
   "cell_type": "code",
   "execution_count": null,
   "metadata": {},
   "outputs": [],
   "source": [
    "# get_data('''\n",
    "# DELIMITER $$\n",
    "# CREATE PROCEDURE average_salary()\n",
    "# BEGIN\n",
    "# \tSELECT \n",
    "# \t\tAVG(salary)\n",
    "#     FROM\n",
    "# \t\tsalaries;\n",
    "# END$$\n",
    "# DELIMITER ;\n",
    "# ''')"
   ]
  },
  {
   "cell_type": "code",
   "execution_count": null,
   "metadata": {},
   "outputs": [],
   "source": [
    "# get_data(\"CALL employees.average_salary();\")"
   ]
  },
  {
   "cell_type": "code",
   "execution_count": null,
   "metadata": {},
   "outputs": [],
   "source": []
  }
 ],
 "metadata": {
  "kernelspec": {
   "display_name": "Python 3.8.9 64-bit",
   "language": "python",
   "name": "python3"
  },
  "language_info": {
   "codemirror_mode": {
    "name": "ipython",
    "version": 3
   },
   "file_extension": ".py",
   "mimetype": "text/x-python",
   "name": "python",
   "nbconvert_exporter": "python",
   "pygments_lexer": "ipython3",
   "version": "3.8.9"
  },
  "orig_nbformat": 4,
  "vscode": {
   "interpreter": {
    "hash": "31f2aee4e71d21fbe5cf8b01ff0e069b9275f58929596ceb00d14d90e3e16cd6"
   }
  }
 },
 "nbformat": 4,
 "nbformat_minor": 2
}
