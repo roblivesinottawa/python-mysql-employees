{
 "cells": [
  {
   "cell_type": "code",
   "execution_count": 27,
   "metadata": {},
   "outputs": [],
   "source": [
    "import mysql.connector\n",
    "from mysql.connector import errorcode\n",
    "import pandas as pd\n",
    "import numpy as np\n",
    "import matplotlib.pyplot as plt\n",
    "import seaborn as sns"
   ]
  },
  {
   "cell_type": "code",
   "execution_count": 44,
   "metadata": {},
   "outputs": [],
   "source": [
    "class Employees():\n",
    "    def __init__(self):\n",
    "        self.conn = mysql.connector.connect(\n",
    "            host=\"localhost\",\n",
    "            user=\"root\",\n",
    "            passwd=\"mysqlpassmacrob\",\n",
    "            database=\"employees\"\n",
    "        )\n",
    "        self.cursor = self.conn.cursor()\n",
    "\n",
    "    def show_databases(self):\n",
    "        \"\"\"This function will show the databases as a list when invoked.\"\"\"\n",
    "        self.cursor.execute(\"SHOW DATABASES;\")\n",
    "        [print(db) for db in self.cursor]\n",
    "\n",
    "    def show_tables(self):\n",
    "        \"\"\"This function will show all the tables in the selected database.\"\"\"\n",
    "        self.cursor.execute(\"SHOW TABLES;\")\n",
    "        [print(table) for table in self.cursor]\n",
    "\n",
    "    def show_employees(self):\n",
    "        \"\"\"This function will display all employees in the database with an added constraint\"\"\"\n",
    "        self.cursor.execute(\"SELECT * FROM employees;\")\n",
    "        [print(e) for e in self.cursor]\n",
    "\n",
    "    def show_employees_by_first_name(self, fname):\n",
    "        \"\"\"This function will display all employees with a given first name.\"\"\" \n",
    "        self.cursor.execute(\"SELECT * FROM employees WHERE first_name = %s;\", (fname,))\n",
    "        [print(e) for e in self.cursor]\n",
    "\n",
    "    def emps_with_same_salary(self):\n",
    "        \"\"\"This function will display all employees with the same salary.\"\"\"\n",
    "        self.cursor.execute(\"\"\"SELECT salary, \n",
    "                            COUNT(emp_no) AS employees_with_same_salary \n",
    "                            FROM salaries WHERE salary > 80000 \n",
    "                            GROUP BY salary ORDER BY salary LIMIT 20;\"\"\")\n",
    "        print(\"emp_no, employees_with_same_salary\")\n",
    "        [print(e) for e in self.cursor]\n",
    "\n",
    "    def avg_salary_higher_than_120000(self):\n",
    "        \"\"\"This function will display the average salary of employees with a salary higher than 120000.\"\"\"\n",
    "        self.cursor.execute(\"\"\"SELECT emp_no, AVG(salary) AS avg_salary \n",
    "                            FROM salaries GROUP BY emp_no\n",
    "                            HAVING AVG(salary) > 120000\n",
    "                            ORDER BY emp_no LIMIT 20;\"\"\")\n",
    "        print(\"emp_no, avg_salary\")\n",
    "        [print(e) for e in self.cursor]\n",
    "\n",
    "    def employees_signed_more_than_1(self):\n",
    "        \"\"\"This function selects all employees who have signed more than one contract after 01-01-2000\"\"\"\n",
    "        self.cursor.execute('''\n",
    "        SELECT emp_no FROM dept_emp \n",
    "        WHERE from_date > '2000-01-01' \n",
    "        GROUP BY emp_no \n",
    "        HAVING COUNT(from_date) > 1 ORDER BY emp_no''')\n",
    "        print(\"emp_no, employees_with_same_salary\")\n",
    "        [print(e) for e in self.cursor]\n",
    "\n",
    "    def insert_new_employee(self, emp_no, birth_date, first_name, last_name, gender, hire_date):\n",
    "        \"\"\"This function inserts a new employee into the employees table\"\"\"\n",
    "        self.cursor.execute(\"INSERT INTO employees VALUES (%s, %s, %s, %s, %s, %s);\", \n",
    "        (emp_no, birth_date, first_name, last_name, gender, hire_date))\n",
    "        self.conn.commit()"
   ]
  },
  {
   "cell_type": "code",
   "execution_count": 45,
   "metadata": {},
   "outputs": [
    {
     "name": "stdout",
     "output_type": "stream",
     "text": [
      "('employees',)\n",
      "('information_schema',)\n",
      "('mysql',)\n",
      "('performance_schema',)\n",
      "('sys',)\n"
     ]
    }
   ],
   "source": [
    "query = Employees()\n",
    "query.show_databases()"
   ]
  },
  {
   "cell_type": "code",
   "execution_count": 46,
   "metadata": {},
   "outputs": [
    {
     "name": "stdout",
     "output_type": "stream",
     "text": [
      "('current_dept_emp',)\n",
      "('departments',)\n",
      "('dept_emp',)\n",
      "('dept_emp_latest_date',)\n",
      "('dept_manager',)\n",
      "('employees',)\n",
      "('salaries',)\n",
      "('titles',)\n"
     ]
    }
   ],
   "source": [
    "query.show_tables()"
   ]
  },
  {
   "cell_type": "code",
   "execution_count": 41,
   "metadata": {},
   "outputs": [
    {
     "name": "stdout",
     "output_type": "stream",
     "text": [
      "(10001, datetime.date(1953, 9, 2), 'Georgi', 'Facello', 'M', datetime.date(1986, 6, 26))\n",
      "(10002, datetime.date(1964, 6, 2), 'Bezalel', 'Simmel', 'F', datetime.date(1985, 11, 21))\n",
      "(10003, datetime.date(1959, 12, 3), 'Parto', 'Bamford', 'M', datetime.date(1986, 8, 28))\n",
      "(10004, datetime.date(1954, 5, 1), 'Chirstian', 'Koblick', 'M', datetime.date(1986, 12, 1))\n",
      "(10005, datetime.date(1955, 1, 21), 'Kyoichi', 'Maliniak', 'M', datetime.date(1989, 9, 12))\n",
      "(10006, datetime.date(1953, 4, 20), 'Anneke', 'Preusig', 'F', datetime.date(1989, 6, 2))\n",
      "(10007, datetime.date(1957, 5, 23), 'Tzvetan', 'Zielinski', 'F', datetime.date(1989, 2, 10))\n",
      "(10008, datetime.date(1958, 2, 19), 'Saniya', 'Kalloufi', 'M', datetime.date(1994, 9, 15))\n",
      "(10009, datetime.date(1952, 4, 19), 'Sumant', 'Peac', 'F', datetime.date(1985, 2, 18))\n",
      "(10010, datetime.date(1963, 6, 1), 'Duangkaew', 'Piveteau', 'F', datetime.date(1989, 8, 24))\n",
      "(10011, datetime.date(1953, 11, 7), 'Mary', 'Sluis', 'F', datetime.date(1990, 1, 22))\n",
      "(10012, datetime.date(1960, 10, 4), 'Patricio', 'Bridgland', 'M', datetime.date(1992, 12, 18))\n",
      "(10013, datetime.date(1963, 6, 7), 'Eberhardt', 'Terkki', 'M', datetime.date(1985, 10, 20))\n",
      "(10014, datetime.date(1956, 2, 12), 'Berni', 'Genin', 'M', datetime.date(1987, 3, 11))\n",
      "(10015, datetime.date(1959, 8, 19), 'Guoxiang', 'Nooteboom', 'M', datetime.date(1987, 7, 2))\n",
      "(10016, datetime.date(1961, 5, 2), 'Kazuhito', 'Cappelletti', 'M', datetime.date(1995, 1, 27))\n",
      "(10017, datetime.date(1958, 7, 6), 'Cristinel', 'Bouloucos', 'F', datetime.date(1993, 8, 3))\n",
      "(10018, datetime.date(1954, 6, 19), 'Kazuhide', 'Peha', 'F', datetime.date(1987, 4, 3))\n",
      "(10019, datetime.date(1953, 1, 23), 'Lillian', 'Haddadi', 'M', datetime.date(1999, 4, 30))\n",
      "(10020, datetime.date(1952, 12, 24), 'Mayuko', 'Warwick', 'M', datetime.date(1991, 1, 26))\n"
     ]
    }
   ],
   "source": [
    "query.show_employees()"
   ]
  },
  {
   "cell_type": "code",
   "execution_count": 42,
   "metadata": {},
   "outputs": [
    {
     "name": "stdout",
     "output_type": "stream",
     "text": [
      "(999904, datetime.date(1977, 9, 14), 'John', 'Cree', 'M', datetime.date(1999, 10, 1))\n"
     ]
    }
   ],
   "source": [
    "query.show_employees_by_first_name(\"John\")"
   ]
  },
  {
   "cell_type": "code",
   "execution_count": 43,
   "metadata": {},
   "outputs": [],
   "source": [
    "query.insert_new_employee(100, '1977-01-01', 'John', 'Doe', 'M', '2000-01-01')"
   ]
  },
  {
   "cell_type": "code",
   "execution_count": null,
   "metadata": {},
   "outputs": [],
   "source": []
  }
 ],
 "metadata": {
  "interpreter": {
   "hash": "aee8b7b246df8f9039afb4144a1f6fd8d2ca17a180786b69acc140d282b71a49"
  },
  "kernelspec": {
   "display_name": "Python 3.9.7 64-bit",
   "language": "python",
   "name": "python3"
  },
  "language_info": {
   "codemirror_mode": {
    "name": "ipython",
    "version": 3
   },
   "file_extension": ".py",
   "mimetype": "text/x-python",
   "name": "python",
   "nbconvert_exporter": "python",
   "pygments_lexer": "ipython3",
   "version": "3.9.7"
  },
  "orig_nbformat": 4
 },
 "nbformat": 4,
 "nbformat_minor": 2
}
